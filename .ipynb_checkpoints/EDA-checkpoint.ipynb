{
 "cells": [
  {
   "cell_type": "code",
   "execution_count": 18,
   "id": "95677a4f",
   "metadata": {},
   "outputs": [],
   "source": [
    "import pandas as pd\n",
    "import numpy as np\n",
    "import matplotlib.pyplot as plt\n",
    "\n",
    "import warnings\n",
    "warnings.filterwarnings('ignore')"
   ]
  },
  {
   "cell_type": "markdown",
   "id": "dda9beb5",
   "metadata": {},
   "source": [
    "# Data Import"
   ]
  },
  {
   "cell_type": "code",
   "execution_count": 2,
   "id": "12ce283c",
   "metadata": {},
   "outputs": [],
   "source": [
    "household_df = pd.read_csv('data/household_level_data.csv')\n",
    "person_df = pd.read_csv('data/person_level_data.csv')\n",
    "training_df = pd.read_csv('data/training_set_data.csv')"
   ]
  },
  {
   "cell_type": "markdown",
   "id": "a13f0dfa",
   "metadata": {},
   "source": [
    "# EDA"
   ]
  },
  {
   "cell_type": "markdown",
   "id": "f49fd9b8",
   "metadata": {},
   "source": [
    "### Calculate the average weekly hours worked among men and women."
   ]
  },
  {
   "cell_type": "code",
   "execution_count": 3,
   "id": "c45f11b1",
   "metadata": {},
   "outputs": [],
   "source": [
    "#Standardize the 'sex' column\n",
    "def male_female(x):\n",
    "    if x == 'M':\n",
    "        return 'MALE'\n",
    "    elif x == 'F':\n",
    "        return 'FEMALE'\n",
    "    else:\n",
    "        return x\n",
    "\n",
    "person_df['sex'] = person_df['sex'].map(lambda x: x.upper())\n",
    "person_df['sex'] = person_df['sex'].map(male_female)"
   ]
  },
  {
   "cell_type": "code",
   "execution_count": 4,
   "id": "3487267c",
   "metadata": {
    "scrolled": true
   },
   "outputs": [
    {
     "name": "stdout",
     "output_type": "stream",
     "text": [
      "Women work an average of 21.73 weekly hours.\n",
      "Men work an average of 28.67 weekly hours.\n"
     ]
    },
    {
     "data": {
      "text/plain": [
       "sex\n",
       "FEMALE    21.725039\n",
       "MALE      28.669930\n",
       "Name: weekly_hours_worked, dtype: float64"
      ]
     },
     "execution_count": 4,
     "metadata": {},
     "output_type": "execute_result"
    }
   ],
   "source": [
    "hours_by_sex = person_df.groupby('sex').mean()['weekly_hours_worked']\n",
    "female_hours = hours_by_sex['FEMALE']\n",
    "male_hours = hours_by_sex['MALE']\n",
    "\n",
    "print(f'Women work an average of {round(female_hours, 2)} weekly hours.')\n",
    "print(f'Men work an average of {round(male_hours, 2)} weekly hours.')\n",
    "hours_by_sex"
   ]
  },
  {
   "cell_type": "markdown",
   "id": "66b711c3",
   "metadata": {},
   "source": [
    "### List the three households (i.e. household_ids) with the highest per person incomes. "
   ]
  },
  {
   "cell_type": "code",
   "execution_count": 5,
   "id": "0c116429",
   "metadata": {
    "scrolled": true
   },
   "outputs": [],
   "source": [
    "# Map the total 'hh_income' values into the dataframe using the 'household_id' column\n",
    "person_df['hh_income'] = [household_df[(household_df['household_id'] == i) & \n",
    "                                       (household_df['variable'] == 'hh_income')]['value'].item() \n",
    "                          for i in person_df['household_id']]\n",
    "\n",
    "#Calculate the individuals income amounts\n",
    "person_df['personal_income'] = person_df['hh_income'] * person_df['hh_income_pct']\n",
    "\n",
    "#Sort the dataframe by income amounts\n",
    "person_df.sort_values(by=['personal_income'], ascending=False, inplace=True)\n",
    "person_df.reset_index(drop=True, inplace=True)"
   ]
  },
  {
   "cell_type": "code",
   "execution_count": 6,
   "id": "80b0e69d",
   "metadata": {
    "scrolled": true
   },
   "outputs": [
    {
     "data": {
      "text/html": [
       "<div>\n",
       "<style scoped>\n",
       "    .dataframe tbody tr th:only-of-type {\n",
       "        vertical-align: middle;\n",
       "    }\n",
       "\n",
       "    .dataframe tbody tr th {\n",
       "        vertical-align: top;\n",
       "    }\n",
       "\n",
       "    .dataframe thead th {\n",
       "        text-align: right;\n",
       "    }\n",
       "</style>\n",
       "<table border=\"1\" class=\"dataframe\">\n",
       "  <thead>\n",
       "    <tr style=\"text-align: right;\">\n",
       "      <th></th>\n",
       "      <th>household_id</th>\n",
       "      <th>hh_income</th>\n",
       "      <th>person_id</th>\n",
       "      <th>hh_income_pct</th>\n",
       "      <th>personal_income</th>\n",
       "    </tr>\n",
       "  </thead>\n",
       "  <tbody>\n",
       "    <tr>\n",
       "      <th>0</th>\n",
       "      <td>10110</td>\n",
       "      <td>1109371.0</td>\n",
       "      <td>23355</td>\n",
       "      <td>0.955742</td>\n",
       "      <td>1060273.0</td>\n",
       "    </tr>\n",
       "    <tr>\n",
       "      <th>1</th>\n",
       "      <td>38870</td>\n",
       "      <td>840245.0</td>\n",
       "      <td>89429</td>\n",
       "      <td>1.000000</td>\n",
       "      <td>840245.0</td>\n",
       "    </tr>\n",
       "    <tr>\n",
       "      <th>2</th>\n",
       "      <td>35657</td>\n",
       "      <td>815471.0</td>\n",
       "      <td>82159</td>\n",
       "      <td>0.999787</td>\n",
       "      <td>815297.0</td>\n",
       "    </tr>\n",
       "  </tbody>\n",
       "</table>\n",
       "</div>"
      ],
      "text/plain": [
       "   household_id  hh_income  person_id  hh_income_pct  personal_income\n",
       "0         10110  1109371.0      23355       0.955742        1060273.0\n",
       "1         38870   840245.0      89429       1.000000         840245.0\n",
       "2         35657   815471.0      82159       0.999787         815297.0"
      ]
     },
     "execution_count": 6,
     "metadata": {},
     "output_type": "execute_result"
    }
   ],
   "source": [
    "person_df[['household_id', 'hh_income', 'person_id', \n",
    "           'hh_income_pct', 'personal_income']].head(3)"
   ]
  },
  {
   "cell_type": "code",
   "execution_count": 7,
   "id": "96ba0dd9",
   "metadata": {
    "scrolled": false
   },
   "outputs": [
    {
     "name": "stdout",
     "output_type": "stream",
     "text": [
      "The three household IDs with the highest per person incomes are 10110, 38870, 35657.\n",
      "Person 23355 has the highest personal income in the dataset at 1060273.0 and belongs to household 10110.\n",
      "Person 89429 has the second highest personal income in the dataset at 840245.0 and belongs to household 38870.\n",
      "Person 82159 has the third highest personal income in the dataset at 815297.0 and belongs to household 35657.\n"
     ]
    }
   ],
   "source": [
    "print(f\"The three household IDs with the highest per person \\\n",
    "incomes are {person_df['household_id'][0]}, \\\n",
    "{person_df['household_id'][1]}, {person_df['household_id'][2]}.\")\n",
    "      \n",
    "print(f\"Person {person_df['person_id'][0]} has the highest \\\n",
    "personal income in the dataset at {person_df['personal_income'][0]} \\\n",
    "and belongs to household {person_df['household_id'][0]}.\")\n",
    "\n",
    "print(f\"Person {person_df['person_id'][1]} has the \\\n",
    "second highest personal income in the dataset at \\\n",
    "{person_df['personal_income'][1]} and belongs to household \\\n",
    "{person_df['household_id'][1]}.\")\n",
    "\n",
    "print(f\"Person {person_df['person_id'][2]} has the third \\\n",
    "highest personal income in the dataset at {person_df['personal_income'][2]} \\\n",
    "and belongs to household {person_df['household_id'][2]}.\")"
   ]
  },
  {
   "cell_type": "markdown",
   "id": "10efa00f",
   "metadata": {},
   "source": [
    "### List the three individuals (i.e. person_ids) with the highest personal income, and the dollar amounts of their personal incomes."
   ]
  },
  {
   "cell_type": "code",
   "execution_count": 8,
   "id": "a304eeb9",
   "metadata": {},
   "outputs": [
    {
     "name": "stdout",
     "output_type": "stream",
     "text": [
      "The three individuals with the highest personal incomes are 23355, 89429, 82159\n",
      "Person 23355 has the highest personal income in the dataset at 1060273.0.\n",
      "Person 89429 has the second highest personal income in the dataset at 840245.0.\n",
      "Person 82159 has the third highest personal income in the dataset at 815297.0.\n"
     ]
    }
   ],
   "source": [
    "print(f\"The three individuals with the highest personal incomes are \\\n",
    "{person_df['person_id'][0]}, {person_df['person_id'][1]}, \\\n",
    "{person_df['person_id'][2]}\")\n",
    "\n",
    "print(f\"Person {person_df['person_id'][0]} has the highest personal \\\n",
    "income in the dataset at {person_df['personal_income'][0]}.\")\n",
    "\n",
    "print(f\"Person {person_df['person_id'][1]} has the second highest \\\n",
    "personal income in the dataset at {person_df['personal_income'][1]}.\")\n",
    "\n",
    "print(f\"Person {person_df['person_id'][2]} has the third highest \\\n",
    "personal income in the dataset at {person_df['personal_income'][2]}.\")"
   ]
  },
  {
   "cell_type": "markdown",
   "id": "4b5dabf3",
   "metadata": {},
   "source": [
    "### Calculate the 80th percentile of age among people in each of the five marital categories."
   ]
  },
  {
   "cell_type": "code",
   "execution_count": 9,
   "id": "13e742cb",
   "metadata": {
    "scrolled": true
   },
   "outputs": [],
   "source": [
    "# person_df['marital_status'].unique()"
   ]
  },
  {
   "cell_type": "code",
   "execution_count": 10,
   "id": "4a7b4702",
   "metadata": {},
   "outputs": [
    {
     "data": {
      "text/plain": [
       "67.0"
      ]
     },
     "execution_count": 10,
     "metadata": {},
     "output_type": "execute_result"
    }
   ],
   "source": [
    "married_80p_age = np.percentile(person_df[person_df['marital_status'] \n",
    "                                          == 'married']['age'], 80)\n",
    "married_80p_age"
   ]
  },
  {
   "cell_type": "code",
   "execution_count": 11,
   "id": "e99c23ce",
   "metadata": {},
   "outputs": [
    {
     "data": {
      "text/plain": [
       "45.0"
      ]
     },
     "execution_count": 11,
     "metadata": {},
     "output_type": "execute_result"
    }
   ],
   "source": [
    "never_married_80p_age = np.percentile(person_df[person_df['marital_status'] \n",
    "                                                == 'never_married']['age'], 80)\n",
    "never_married_80p_age"
   ]
  },
  {
   "cell_type": "code",
   "execution_count": 12,
   "id": "1b639c49",
   "metadata": {},
   "outputs": [
    {
     "data": {
      "text/plain": [
       "67.0"
      ]
     },
     "execution_count": 12,
     "metadata": {},
     "output_type": "execute_result"
    }
   ],
   "source": [
    "divorced_80p_age = np.percentile(person_df[person_df['marital_status'] \n",
    "                                           == 'divorced']['age'], 80)\n",
    "divorced_80p_age"
   ]
  },
  {
   "cell_type": "code",
   "execution_count": 13,
   "id": "8411d068",
   "metadata": {},
   "outputs": [
    {
     "data": {
      "text/plain": [
       "86.0"
      ]
     },
     "execution_count": 13,
     "metadata": {},
     "output_type": "execute_result"
    }
   ],
   "source": [
    "widowed_80p_age = np.percentile(person_df[person_df['marital_status'] \n",
    "                                          == 'widowed']['age'], 80)\n",
    "widowed_80p_age"
   ]
  },
  {
   "cell_type": "code",
   "execution_count": 14,
   "id": "22f4adfa",
   "metadata": {},
   "outputs": [
    {
     "data": {
      "text/plain": [
       "61.0"
      ]
     },
     "execution_count": 14,
     "metadata": {},
     "output_type": "execute_result"
    }
   ],
   "source": [
    "separated_80p_age = np.percentile(person_df[person_df['marital_status'] \n",
    "                                            == 'separated']['age'], 80)\n",
    "separated_80p_age"
   ]
  },
  {
   "cell_type": "code",
   "execution_count": null,
   "id": "84e6b6e2",
   "metadata": {},
   "outputs": [],
   "source": [
    "# For each column/group of columns produce summary stats and investgate relationship to uninsurance."
   ]
  },
  {
   "cell_type": "markdown",
   "id": "4f1ce47f",
   "metadata": {},
   "source": [
    "### Baseline uninsured rate"
   ]
  },
  {
   "cell_type": "code",
   "execution_count": 59,
   "id": "464f41c7",
   "metadata": {},
   "outputs": [
    {
     "data": {
      "text/plain": [
       "0    0.922479\n",
       "1    0.077521\n",
       "Name: uninsured, dtype: float64"
      ]
     },
     "execution_count": 59,
     "metadata": {},
     "output_type": "execute_result"
    }
   ],
   "source": [
    "training_df['uninsured'].value_counts(normalize=True)"
   ]
  },
  {
   "cell_type": "markdown",
   "id": "dabd8072",
   "metadata": {},
   "source": [
    "### age"
   ]
  },
  {
   "cell_type": "code",
   "execution_count": 45,
   "id": "2c96c1bd",
   "metadata": {},
   "outputs": [
    {
     "name": "stdout",
     "output_type": "stream",
     "text": [
      "Average age: 49.1\n",
      "STD: +/- 18.6\n"
     ]
    }
   ],
   "source": [
    "print('Average age: {}'.format(round(training_df['age'].mean(), 1)))\n",
    "print('STD: +/- {}'.format(round(training_df['age'].std(), 1)))"
   ]
  },
  {
   "cell_type": "code",
   "execution_count": 58,
   "id": "a4f9d8bb",
   "metadata": {},
   "outputs": [
    {
     "data": {
      "image/png": "[encoded data removed]",
      "text/plain": [
       "<Figure size 432x288 with 1 Axes>"
      ]
     },
     "metadata": {
      "needs_background": "light"
     },
     "output_type": "display_data"
    }
   ],
   "source": [
    "plt.hist(training_df['age'])\n",
    "plt.axvline(training_df['age'].mean(), color ='r', label='49.1 (mean)')\n",
    "plt.axvline(training_df['age'].mean() + training_df['age'].std(), color ='g', ls = '--', label='+/- 18.6 (std)')\n",
    "plt.axvline(training_df['age'].mean() - training_df['age'].std(), color ='g', ls = '--')\n",
    "plt.legend();"
   ]
  },
  {
   "cell_type": "code",
   "execution_count": 33,
   "id": "7881b08b",
   "metadata": {},
   "outputs": [
    {
     "data": {
      "image/png": "[encoded data removed]",
      "text/plain": [
       "<Figure size 1152x576 with 4 Axes>"
      ]
     },
     "metadata": {
      "needs_background": "light"
     },
     "output_type": "display_data"
    }
   ],
   "source": [
    "# rows x columns\n",
    "fig, ax = plt.subplots(2, 2, figsize = (16, 8))\n",
    "\n",
    "# # scatterplot requires two cols\n",
    "ax[0][0].hist(training_df[training_df['marital_status'] == 'widowed']['age'])\n",
    "ax[0][0].set_xlabel('age')\n",
    "ax[0][0].set_title('Married Age Distribution')\n",
    "\n",
    "# row 1 col 1\n",
    "ax[0][1].hist(training_df[training_df['marital_status'] == 'widowed']['age'])\n",
    "ax[0][1].set_xlabel('age')\n",
    "ax[0][1].set_title('Widowed Age Distribution')\n",
    "\n",
    "# # whether any other cols have corr's w/medv\n",
    "ax[1][0].hist(training_df[training_df['marital_status'] == 'never_married']['age'])\n",
    "ax[1][0].set_xlabel('age')\n",
    "ax[1][0].set_title('Never Married Age Distribution')\n",
    "\n",
    "ax[1][1].hist(training_df[training_df['marital_status'] == 'divorced']['age'])\n",
    "ax[1][1].set_xlabel('age')\n",
    "ax[1][1].set_title('Divorced Age Distribution')\n",
    "\n",
    "# # to not have titles and axes labels overlap, do:\n",
    "plt.tight_layout();"
   ]
  },
  {
   "cell_type": "markdown",
   "id": "eeab63eb",
   "metadata": {},
   "source": [
    "### Marital Status"
   ]
  },
  {
   "cell_type": "code",
   "execution_count": 79,
   "id": "7a68a873",
   "metadata": {
    "scrolled": true
   },
   "outputs": [
    {
     "data": {
      "text/plain": [
       "marital_status\n",
       "divorced         0.079691\n",
       "married          0.055048\n",
       "never_married    0.120010\n",
       "separated        0.157143\n",
       "widowed          0.061453\n",
       "Name: uninsured, dtype: float64"
      ]
     },
     "execution_count": 79,
     "metadata": {},
     "output_type": "execute_result"
    }
   ],
   "source": [
    "training_df.groupby('marital_status')['uninsured'].mean()"
   ]
  },
  {
   "cell_type": "markdown",
   "id": "f5091a1e",
   "metadata": {},
   "source": [
    "### Citizen Status"
   ]
  },
  {
   "cell_type": "code",
   "execution_count": 78,
   "id": "95020e18",
   "metadata": {},
   "outputs": [
    {
     "data": {
      "text/plain": [
       "citizen_status\n",
       "citizen_birth          0.058359\n",
       "citizen_naturalized    0.072546\n",
       "noncitizen             0.346933\n",
       "Name: uninsured, dtype: float64"
      ]
     },
     "execution_count": 78,
     "metadata": {},
     "output_type": "execute_result"
    }
   ],
   "source": [
    "training_df.groupby('citizen_status')['uninsured'].mean()"
   ]
  },
  {
   "cell_type": "markdown",
   "id": "64b8abd6",
   "metadata": {},
   "source": [
    "### Nativity Status"
   ]
  },
  {
   "cell_type": "code",
   "execution_count": 77,
   "id": "2b24f2ee",
   "metadata": {
    "scrolled": false
   },
   "outputs": [
    {
     "data": {
      "text/plain": [
       "nativity_status\n",
       "foreign_born    0.201682\n",
       "native_born     0.058359\n",
       "Name: uninsured, dtype: float64"
      ]
     },
     "execution_count": 77,
     "metadata": {},
     "output_type": "execute_result"
    }
   ],
   "source": [
    "training_df.groupby('nativity_status')['uninsured'].mean()"
   ]
  },
  {
   "cell_type": "markdown",
   "id": "ed6cffc5",
   "metadata": {},
   "source": [
    "### School Status"
   ]
  },
  {
   "cell_type": "code",
   "execution_count": 76,
   "id": "eeaecfd1",
   "metadata": {},
   "outputs": [
    {
     "data": {
      "text/plain": [
       "school_status\n",
       "not_student       0.078218\n",
       "private_school    0.052718\n",
       "public_school     0.079458\n",
       "Name: uninsured, dtype: float64"
      ]
     },
     "execution_count": 76,
     "metadata": {},
     "output_type": "execute_result"
    }
   ],
   "source": [
    "training_df.groupby('school_status')['uninsured'].mean()"
   ]
  },
  {
   "cell_type": "markdown",
   "id": "943b94bb",
   "metadata": {},
   "source": [
    "### Never Married, Noncitizen & Foregin Born"
   ]
  },
  {
   "cell_type": "code",
   "execution_count": 81,
   "id": "45ff60d9",
   "metadata": {},
   "outputs": [
    {
     "data": {
      "text/plain": [
       "0.4216757741347905"
      ]
     },
     "execution_count": 81,
     "metadata": {},
     "output_type": "execute_result"
    }
   ],
   "source": [
    "training_df[(training_df['marital_status'] == 'never_married') & (training_df['citizen_status'] == 'noncitizen') & \n",
    "            (training_df['nativity_status'] == 'foreign_born')]['uninsured'].mean()"
   ]
  },
  {
   "cell_type": "code",
   "execution_count": 87,
   "id": "fe28ac5b",
   "metadata": {},
   "outputs": [],
   "source": []
  },
  {
   "cell_type": "code",
   "execution_count": null,
   "id": "1a67d669",
   "metadata": {},
   "outputs": [],
   "source": []
  }
 ],
 "metadata": {
  "kernelspec": {
   "display_name": "Python 3",
   "language": "python",
   "name": "python3"
  },
  "language_info": {
   "codemirror_mode": {
    "name": "ipython",
    "version": 3
   },
   "file_extension": ".py",
   "mimetype": "text/x-python",
   "name": "python",
   "nbconvert_exporter": "python",
   "pygments_lexer": "ipython3",
   "version": "3.8.8"
  }
 },
 "nbformat": 4,
 "nbformat_minor": 5
}
